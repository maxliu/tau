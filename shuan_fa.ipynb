{
  "nbformat": 4,
  "nbformat_minor": 0,
  "metadata": {
    "colab": {
      "name": "shuan_fa.ipynb",
      "provenance": [],
      "include_colab_link": true
    },
    "kernelspec": {
      "name": "python2",
      "display_name": "Python 2"
    }
  },
  "cells": [
    {
      "cell_type": "markdown",
      "metadata": {
        "id": "view-in-github",
        "colab_type": "text"
      },
      "source": [
        "<a href=\"https://colab.research.google.com/github/maxliu/tau/blob/master/shuan_fa.ipynb\" target=\"_parent\"><img src=\"https://colab.research.google.com/assets/colab-badge.svg\" alt=\"Open In Colab\"/></a>"
      ]
    },
    {
      "metadata": {
        "id": "fmLWhjaMDp0_"
      },
      "cell_type": "code",
      "source": [
        "stack = [1,2,3]"
      ],
      "execution_count": null,
      "outputs": []
    },
    {
      "metadata": {
        "id": "eumyVZyVDsBT"
      },
      "cell_type": "code",
      "source": [
        "stack.append(4)"
      ],
      "execution_count": null,
      "outputs": []
    },
    {
      "metadata": {
        "id": "1pWhNROWDwoe",
        "colab": {
          "base_uri": "https://localhost:8080/"
        },
        "outputId": "e6747bd9-a794-41c4-e352-973ee6c544b8"
      },
      "cell_type": "code",
      "source": [
        "stack"
      ],
      "execution_count": null,
      "outputs": [
        {
          "output_type": "execute_result",
          "data": {
            "text/plain": [
              "[1, 2, 3, 4]"
            ]
          },
          "metadata": {},
          "execution_count": 4
        }
      ]
    },
    {
      "cell_type": "code",
      "source": [
        "stack.pop()"
      ],
      "metadata": {
        "id": "iyqi0yVQ0lZX",
        "outputId": "2e8ce692-274b-4359-d787-2b32f6e90c87",
        "colab": {
          "base_uri": "https://localhost:8080/"
        }
      },
      "execution_count": null,
      "outputs": [
        {
          "output_type": "execute_result",
          "data": {
            "text/plain": [
              "4"
            ]
          },
          "metadata": {},
          "execution_count": 5
        }
      ]
    },
    {
      "cell_type": "code",
      "source": [
        "stack[-1]"
      ],
      "metadata": {
        "id": "sXV_ZWfRA02J",
        "outputId": "a9f83a36-766a-47cd-a66c-0c8a40e3de0a",
        "colab": {
          "base_uri": "https://localhost:8080/"
        }
      },
      "execution_count": null,
      "outputs": [
        {
          "output_type": "execute_result",
          "data": {
            "text/plain": [
              "3"
            ]
          },
          "metadata": {},
          "execution_count": 7
        }
      ]
    },
    {
      "cell_type": "code",
      "source": [
        "def match(a, b):\n",
        "\n",
        "  if a == \"(\" and b== \")\":\n",
        "    return True\n",
        "  elif a==\"[\" and b==\"]\":\n",
        "    return True\n",
        "  elif a==\"{\" and b==\"}\":\n",
        "    return True\n",
        "  else:\n",
        "    return False\n",
        "\n",
        "\n",
        "s = \"([]))\"\n",
        "\n",
        "stack = []\n",
        "\n",
        "for x in s:\n",
        "  if len(stack) == 0:\n",
        "    stack.append(x)\n",
        "  else:\n",
        "    if match(stack[-1], x):\n",
        "      stack.pop()\n",
        "    else:\n",
        "      stack.append(x)\n",
        "\n",
        "if len(stack)==0:\n",
        "  print(\"valid\")\n",
        "else:\n",
        "  print(\"not valid\")"
      ],
      "metadata": {
        "id": "vrnLup38A1X7",
        "outputId": "f9c72e25-953e-4a9c-c2d0-4de1f0f045ea",
        "colab": {
          "base_uri": "https://localhost:8080/"
        }
      },
      "execution_count": null,
      "outputs": [
        {
          "output_type": "stream",
          "name": "stdout",
          "text": [
            "not valid\n"
          ]
        }
      ]
    },
    {
      "cell_type": "code",
      "source": [
        "s=\"\"\n",
        "\n",
        "for _ in range(100):\n",
        "  print(s)"
      ],
      "metadata": {
        "id": "TdY_zf10Bxoo",
        "outputId": "2037b74d-be11-4e75-82a6-b99d3ee62de8",
        "colab": {
          "base_uri": "https://localhost:8080/"
        }
      },
      "execution_count": 5,
      "outputs": [
        {
          "output_type": "stream",
          "name": "stdout",
          "text": [
            "\n",
            "\n",
            "\n",
            "\n",
            "\n",
            "\n",
            "\n",
            "\n",
            "\n",
            "\n",
            "\n",
            "\n",
            "\n",
            "\n",
            "\n",
            "\n",
            "\n",
            "\n",
            "\n",
            "\n",
            "\n",
            "\n",
            "\n",
            "\n",
            "\n",
            "\n",
            "\n",
            "\n",
            "\n",
            "\n",
            "\n",
            "\n",
            "\n",
            "\n",
            "\n",
            "\n",
            "\n",
            "\n",
            "\n",
            "\n",
            "\n",
            "\n",
            "\n",
            "\n",
            "\n",
            "\n",
            "\n",
            "\n",
            "\n",
            "\n",
            "\n",
            "\n",
            "\n",
            "\n",
            "\n",
            "\n",
            "\n",
            "\n",
            "\n",
            "\n",
            "\n",
            "\n",
            "\n",
            "\n",
            "\n",
            "\n",
            "\n",
            "\n",
            "\n",
            "\n",
            "\n",
            "\n",
            "\n",
            "\n",
            "\n",
            "\n",
            "\n",
            "\n",
            "\n",
            "\n",
            "\n",
            "\n",
            "\n",
            "\n",
            "\n",
            "\n",
            "\n",
            "\n",
            "\n",
            "\n",
            "\n",
            "\n",
            "\n",
            "\n",
            "\n",
            "\n",
            "\n",
            "\n",
            "\n",
            "\n"
          ]
        }
      ]
    },
    {
      "cell_type": "code",
      "source": [
        ""
      ],
      "metadata": {
        "id": "bbu6rASjJ4Sj"
      },
      "execution_count": null,
      "outputs": []
    }
  ]
}